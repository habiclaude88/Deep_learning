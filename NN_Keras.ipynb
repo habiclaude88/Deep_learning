{
  "nbformat": 4,
  "nbformat_minor": 0,
  "metadata": {
    "colab": {
      "provenance": [],
      "authorship_tag": "ABX9TyMnNNpBdQSXuXkL/lhubnWp",
      "include_colab_link": true
    },
    "kernelspec": {
      "name": "python3",
      "display_name": "Python 3"
    },
    "language_info": {
      "name": "python"
    }
  },
  "cells": [
    {
      "cell_type": "markdown",
      "metadata": {
        "id": "view-in-github",
        "colab_type": "text"
      },
      "source": [
        "<a href=\"https://colab.research.google.com/github/habiclaude88/Deep_learning/blob/main/NN_Keras.ipynb\" target=\"_parent\"><img src=\"https://colab.research.google.com/assets/colab-badge.svg\" alt=\"Open In Colab\"/></a>"
      ]
    },
    {
      "cell_type": "markdown",
      "source": [
        "Keras is a powerful and easy-to-use free open source Python library for developing and evaluating deep learning models.\n",
        "\n",
        "It is part of the TensorFlow library and allows you to define and train neural network models in just a few lines of code."
      ],
      "metadata": {
        "id": "pVeP29oxyGHV"
      }
    },
    {
      "cell_type": "markdown",
      "source": [
        "The steps you will learn in this tutorial are as follows:\n",
        "\n",
        "1.Load Data\n",
        "2.Define Keras Model\n",
        "3.Compile Keras Model\n",
        "4.Fit Keras Model\n",
        "5.Evaluate Keras Model\n",
        "6.Tie It All Together\n",
        "7.Make Predictions"
      ],
      "metadata": {
        "id": "s54oJKzMyZIg"
      }
    },
    {
      "cell_type": "code",
      "execution_count": 64,
      "metadata": {
        "id": "WgD-aSI1hogn"
      },
      "outputs": [],
      "source": [
        "# # first neural network with keras tutorial\n",
        "# from numpy import loadtxt\n",
        "# from tensorflow.keras.models import Sequential\n",
        "# from tensorflow.keras.layers import Dense"
      ]
    },
    {
      "cell_type": "markdown",
      "source": [
        "There are eight input variables and one output variable (the last column). You will be learning a model to map rows of input variables (X) to an output variable (y), which is often summarized as y = f(X)."
      ],
      "metadata": {
        "id": "r1FVd4UzzBKo"
      }
    },
    {
      "cell_type": "markdown",
      "source": [
        "The variables can be summarized as follows:\n",
        "\n",
        "Input Variables (X):\n",
        "\n",
        "Number of times pregnant\n",
        "Plasma glucose concentration at 2 hours in an oral glucose tolerance test\n",
        "Diastolic blood pressure (mm Hg)\n",
        "Triceps skin fold thickness (mm)\n",
        "2-hour serum insulin (mu U/ml)\n",
        "Body mass index (weight in kg/(height in m)^2)\n",
        "Diabetes pedigree function\n",
        "Age (years)\n",
        "Output Variables (y):\n",
        "\n",
        "Class variable (0 or 1)"
      ],
      "metadata": {
        "id": "9dSP7dC1zJRP"
      }
    },
    {
      "cell_type": "code",
      "source": [
        "# first neural network with keras tutorial\n",
        "from numpy import loadtxt\n",
        "from keras.models import Sequential\n",
        "from keras.layers import Dense"
      ],
      "metadata": {
        "id": "BbGhgnzxibBt"
      },
      "execution_count": 65,
      "outputs": []
    },
    {
      "cell_type": "code",
      "source": [
        "# load the dataset using pandas\n",
        "import pandas as pd\n",
        "\n",
        "df = pd.read_csv(\"https://raw.githubusercontent.com/jbrownlee/Datasets/master/pima-indians-diabetes.data.csv\")\n",
        "df.to_csv(\"pima.csv\")\n",
        "\n",
        "import requests\n",
        "response = requests.get(\"https://raw.githubusercontent.com/jbrownlee/Datasets/master/pima-indians-diabetes.data.csv\")\n",
        "with open(\"pima_r.csv\", \"w+\") as file:\n",
        "  file.write(response.text)"
      ],
      "metadata": {
        "id": "Q3Io1DbJibPv"
      },
      "execution_count": 66,
      "outputs": []
    },
    {
      "cell_type": "markdown",
      "source": [
        "The dataset has nine columns, and the range 0:8 will select columns from 0 to 7, stopping before index 8."
      ],
      "metadata": {
        "id": "Pk84ejTfzUYT"
      }
    },
    {
      "cell_type": "code",
      "source": [
        "# load the dataset\n",
        "dataset = loadtxt('/content/pima_r.csv', delimiter=',')\n",
        "# split into input (X) and output (y) variables\n",
        "X = dataset[:,0:8]\n",
        "y = dataset[:,8]"
      ],
      "metadata": {
        "id": "p-a-52msibSy"
      },
      "execution_count": 67,
      "outputs": []
    },
    {
      "cell_type": "code",
      "source": [
        "# df_x = df.iloc[:,0:8]\n",
        "# df_y = df.iloc[:,8]"
      ],
      "metadata": {
        "id": "WmS3fA0yphl_"
      },
      "execution_count": 69,
      "outputs": []
    },
    {
      "cell_type": "markdown",
      "source": [
        "Define Keras Model\n",
        "Models in Keras are defined as a sequence of layers.\n",
        "\n",
        "We create a Sequential model and add layers one at a time until we are happy with our network architecture.\n",
        "\n",
        "The first thing to get right is to ensure the input layer has the correct number of input features. This can be specified when creating the first layer with the input_shape argument and setting it to (8,) for presenting the eight input variables as a vector.\n",
        "\n",
        "How do we know the number of layers and their types?\n",
        "\n",
        "This is a tricky question. There are heuristics that you can use, and often the best network structure is found through a process of trial and error experimentation (I explain more about this here). Generally, you need a network large enough to capture the structure of the problem.\n",
        "\n",
        "In this example, let’s use a fully-connected network structure with three layers.\n",
        "\n",
        "Fully connected layers are defined using the Dense class. You can specify the number of neurons or nodes in the layer as the first argument and the activation function using the activation argument.\n",
        "\n",
        "Also, you will use the rectified linear unit activation function referred to as ReLU on the first two layers and the Sigmoid function in the output layer.\n",
        "\n",
        "It used to be the case that Sigmoid and Tanh activation functions were preferred for all layers. These days, better performance is achieved using the ReLU activation function. Using a sigmoid on the output layer ensures your network output is between 0 and 1 and is easy to map to either a probability of class 1 or snap to a hard classification of either class with a default threshold of 0.5.\n",
        "\n",
        "You can piece it all together by adding each layer:\n",
        "\n",
        "The model expects rows of data with 8 variables (the input_shape=(8,) argument).\n",
        "The first hidden layer has 12 nodes and uses the relu activation function.\n",
        "The second hidden layer has 8 nodes and uses the relu activation function.\n",
        "The output layer has one node and uses the sigmoid activation function."
      ],
      "metadata": {
        "id": "HcNgBd9Kzicn"
      }
    },
    {
      "cell_type": "markdown",
      "source": [
        "Note:  The most confusing thing here is that the shape of the input to the model is defined as an argument on the first hidden layer. This means that the line of code that adds the first Dense layer is doing two things, defining the input or visible layer and the first hidden layer."
      ],
      "metadata": {
        "id": "gyscYMCYz6qr"
      }
    },
    {
      "cell_type": "code",
      "source": [
        "# define the keras model\n",
        "model = Sequential()\n",
        "model.add(Dense(12, input_shape=(8,), activation='relu')) #Input layers\n",
        "model.add(Dense(8, activation='relu')) #hidden layers\n",
        "model.add(Dense(8, activation='relu')) #hidden layers\n",
        "model.add(Dense(1, activation='sigmoid')) #output layer"
      ],
      "metadata": {
        "id": "M2CnjuyBsqtx"
      },
      "execution_count": 70,
      "outputs": []
    },
    {
      "cell_type": "markdown",
      "source": [
        "Compile Keras Model\n",
        "Now that the model is defined, you can compile it.\n",
        "\n",
        "Compiling the model uses the efficient numerical libraries under the covers (the so-called backend) such as Theano or TensorFlow. The backend automatically chooses the best way to represent the network for training and making predictions to run on your hardware, such as CPU, GPU, or even distributed.\n",
        "\n",
        "When compiling, you must specify some additional properties required when training the network. Remember training a network means finding the best set of weights to map inputs to outputs in your dataset.\n",
        "\n",
        "You must specify the loss function to use to evaluate a set of weights, the optimizer used to search through different weights for the network, and any optional metrics you want to collect and report during training.\n",
        "\n",
        "In this case, use cross entropy as the loss argument. This loss is for a binary classification problems and is defined in Keras as “binary_crossentropy“. You can learn more about choosing loss functions based on your problem here:\n",
        "\n",
        "How to Choose Loss Functions When Training Deep Learning Neural Networks\n",
        "We will define the optimizer as the efficient stochastic gradient descent algorithm “adam“. This is a popular version of gradient descent because it automatically tunes itself and gives good results in a wide range of problems. To learn more about the Adam version of stochastic gradient descent, see the post:\n",
        "\n",
        "Gentle Introduction to the Adam Optimization Algorithm for Deep Learning\n",
        "Finally, because it is a classification problem, you will collect and report the classification accuracy defined via the metrics argument."
      ],
      "metadata": {
        "id": "PqYG3ECs0CpC"
      }
    },
    {
      "cell_type": "code",
      "source": [
        "# compile the keras model\n",
        "model.compile(loss='binary_crossentropy', optimizer='adam', metrics=['accuracy'])"
      ],
      "metadata": {
        "id": "lSOxCjzgt9zs"
      },
      "execution_count": 71,
      "outputs": []
    },
    {
      "cell_type": "markdown",
      "source": [
        "Fit Keras Model\n",
        "You have defined your model and compiled it to get ready for efficient computation.\n",
        "\n",
        "Now it is time to execute the model on some data.\n",
        "\n",
        "You can train or fit your model on your loaded data by calling the fit() function on the model.\n",
        "\n",
        "Training occurs over epochs, and each epoch is split into batches.\n",
        "\n",
        "Epoch: One pass through all of the rows in the training dataset\n",
        "Batch: One or more samples considered by the model within an epoch before weights are updated\n",
        "One epoch comprises one or more batches, based on the chosen batch size, and the model is fit for many epochs. For more on the difference between epochs and batches, see the post:\n",
        "\n",
        "What is the Difference Between a Batch and an Epoch in a Neural Network?\n",
        "The training process will run for a fixed number of epochs (iterations) through the dataset that you must specify using the epochs argument. You must also set the number of dataset rows that are considered before the model weights are updated within each epoch, called the batch size, and set using the batch_size argument.\n",
        "\n",
        "This problem will run for a small number of epochs (150) and use a relatively small batch size of 10.\n",
        "\n",
        "These configurations can be chosen experimentally by trial and error. You want to train the model enough so that it learns a good (or good enough) mapping of rows of input data to the output classification. The model will always have some error, but the amount of error will level out after some point for a given model configuration. This is called model convergence."
      ],
      "metadata": {
        "id": "PtsYhb8T0KD4"
      }
    },
    {
      "cell_type": "code",
      "source": [
        "# fit the keras model on the dataset\n",
        "model.fit(X, y, epochs=150, batch_size=10)"
      ],
      "metadata": {
        "colab": {
          "base_uri": "https://localhost:8080/"
        },
        "id": "EtAGcXebyYZ5",
        "outputId": "85ee4076-d3f0-4f90-88b9-7885fed6e44f"
      },
      "execution_count": 72,
      "outputs": [
        {
          "output_type": "stream",
          "name": "stdout",
          "text": [
            "Epoch 1/150\n",
            "77/77 [==============================] - 1s 2ms/step - loss: 5.8126 - accuracy: 0.4727\n",
            "Epoch 2/150\n",
            "77/77 [==============================] - 0s 2ms/step - loss: 3.1022 - accuracy: 0.4870\n",
            "Epoch 3/150\n",
            "77/77 [==============================] - 0s 2ms/step - loss: 1.8387 - accuracy: 0.5117\n",
            "Epoch 4/150\n",
            "77/77 [==============================] - 0s 2ms/step - loss: 1.1294 - accuracy: 0.5729\n",
            "Epoch 5/150\n",
            "77/77 [==============================] - 0s 2ms/step - loss: 0.9005 - accuracy: 0.6315\n",
            "Epoch 6/150\n",
            "77/77 [==============================] - 0s 2ms/step - loss: 0.7766 - accuracy: 0.6432\n",
            "Epoch 7/150\n",
            "77/77 [==============================] - 0s 2ms/step - loss: 0.6895 - accuracy: 0.6758\n",
            "Epoch 8/150\n",
            "77/77 [==============================] - 0s 2ms/step - loss: 0.6568 - accuracy: 0.6836\n",
            "Epoch 9/150\n",
            "77/77 [==============================] - 0s 2ms/step - loss: 0.6420 - accuracy: 0.6888\n",
            "Epoch 10/150\n",
            "77/77 [==============================] - 0s 2ms/step - loss: 0.6150 - accuracy: 0.6914\n",
            "Epoch 11/150\n",
            "77/77 [==============================] - 0s 2ms/step - loss: 0.6341 - accuracy: 0.6589\n",
            "Epoch 12/150\n",
            "77/77 [==============================] - 0s 2ms/step - loss: 0.5879 - accuracy: 0.7122\n",
            "Epoch 13/150\n",
            "77/77 [==============================] - 0s 2ms/step - loss: 0.5829 - accuracy: 0.7018\n",
            "Epoch 14/150\n",
            "77/77 [==============================] - 0s 2ms/step - loss: 0.5805 - accuracy: 0.7083\n",
            "Epoch 15/150\n",
            "77/77 [==============================] - 0s 2ms/step - loss: 0.5693 - accuracy: 0.7188\n",
            "Epoch 16/150\n",
            "77/77 [==============================] - 0s 2ms/step - loss: 0.5740 - accuracy: 0.6953\n",
            "Epoch 17/150\n",
            "77/77 [==============================] - 0s 2ms/step - loss: 0.5652 - accuracy: 0.7201\n",
            "Epoch 18/150\n",
            "77/77 [==============================] - 0s 2ms/step - loss: 0.5669 - accuracy: 0.7227\n",
            "Epoch 19/150\n",
            "77/77 [==============================] - 0s 2ms/step - loss: 0.5682 - accuracy: 0.7174\n",
            "Epoch 20/150\n",
            "77/77 [==============================] - 0s 2ms/step - loss: 0.5645 - accuracy: 0.7214\n",
            "Epoch 21/150\n",
            "77/77 [==============================] - 0s 2ms/step - loss: 0.5596 - accuracy: 0.7292\n",
            "Epoch 22/150\n",
            "77/77 [==============================] - 0s 2ms/step - loss: 0.5802 - accuracy: 0.7109\n",
            "Epoch 23/150\n",
            "77/77 [==============================] - 0s 2ms/step - loss: 0.5717 - accuracy: 0.7174\n",
            "Epoch 24/150\n",
            "77/77 [==============================] - 0s 2ms/step - loss: 0.5503 - accuracy: 0.7292\n",
            "Epoch 25/150\n",
            "77/77 [==============================] - 0s 2ms/step - loss: 0.5696 - accuracy: 0.7305\n",
            "Epoch 26/150\n",
            "77/77 [==============================] - 0s 2ms/step - loss: 0.5610 - accuracy: 0.7161\n",
            "Epoch 27/150\n",
            "77/77 [==============================] - 0s 2ms/step - loss: 0.5586 - accuracy: 0.7188\n",
            "Epoch 28/150\n",
            "77/77 [==============================] - 0s 2ms/step - loss: 0.5479 - accuracy: 0.7227\n",
            "Epoch 29/150\n",
            "77/77 [==============================] - 0s 3ms/step - loss: 0.5451 - accuracy: 0.7331\n",
            "Epoch 30/150\n",
            "77/77 [==============================] - 0s 3ms/step - loss: 0.5658 - accuracy: 0.7253\n",
            "Epoch 31/150\n",
            "77/77 [==============================] - 0s 2ms/step - loss: 0.5319 - accuracy: 0.7318\n",
            "Epoch 32/150\n",
            "77/77 [==============================] - 0s 2ms/step - loss: 0.5422 - accuracy: 0.7331\n",
            "Epoch 33/150\n",
            "77/77 [==============================] - 0s 2ms/step - loss: 0.5501 - accuracy: 0.7409\n",
            "Epoch 34/150\n",
            "77/77 [==============================] - 0s 2ms/step - loss: 0.5460 - accuracy: 0.7240\n",
            "Epoch 35/150\n",
            "77/77 [==============================] - 0s 2ms/step - loss: 0.5464 - accuracy: 0.7292\n",
            "Epoch 36/150\n",
            "77/77 [==============================] - 0s 2ms/step - loss: 0.5335 - accuracy: 0.7344\n",
            "Epoch 37/150\n",
            "77/77 [==============================] - 0s 2ms/step - loss: 0.5246 - accuracy: 0.7409\n",
            "Epoch 38/150\n",
            "77/77 [==============================] - 0s 3ms/step - loss: 0.5362 - accuracy: 0.7396\n",
            "Epoch 39/150\n",
            "77/77 [==============================] - 0s 3ms/step - loss: 0.5165 - accuracy: 0.7487\n",
            "Epoch 40/150\n",
            "77/77 [==============================] - 0s 2ms/step - loss: 0.5305 - accuracy: 0.7422\n",
            "Epoch 41/150\n",
            "77/77 [==============================] - 0s 2ms/step - loss: 0.5375 - accuracy: 0.7591\n",
            "Epoch 42/150\n",
            "77/77 [==============================] - 0s 2ms/step - loss: 0.5552 - accuracy: 0.7188\n",
            "Epoch 43/150\n",
            "77/77 [==============================] - 0s 2ms/step - loss: 0.5305 - accuracy: 0.7539\n",
            "Epoch 44/150\n",
            "77/77 [==============================] - 0s 2ms/step - loss: 0.5369 - accuracy: 0.7383\n",
            "Epoch 45/150\n",
            "77/77 [==============================] - 0s 2ms/step - loss: 0.5318 - accuracy: 0.7487\n",
            "Epoch 46/150\n",
            "77/77 [==============================] - 0s 2ms/step - loss: 0.5186 - accuracy: 0.7487\n",
            "Epoch 47/150\n",
            "77/77 [==============================] - 0s 2ms/step - loss: 0.5229 - accuracy: 0.7461\n",
            "Epoch 48/150\n",
            "77/77 [==============================] - 0s 2ms/step - loss: 0.5230 - accuracy: 0.7461\n",
            "Epoch 49/150\n",
            "77/77 [==============================] - 0s 2ms/step - loss: 0.5142 - accuracy: 0.7474\n",
            "Epoch 50/150\n",
            "77/77 [==============================] - 0s 2ms/step - loss: 0.5250 - accuracy: 0.7474\n",
            "Epoch 51/150\n",
            "77/77 [==============================] - 0s 2ms/step - loss: 0.5198 - accuracy: 0.7604\n",
            "Epoch 52/150\n",
            "77/77 [==============================] - 0s 2ms/step - loss: 0.5157 - accuracy: 0.7513\n",
            "Epoch 53/150\n",
            "77/77 [==============================] - 0s 2ms/step - loss: 0.5327 - accuracy: 0.7500\n",
            "Epoch 54/150\n",
            "77/77 [==============================] - 0s 2ms/step - loss: 0.5171 - accuracy: 0.7448\n",
            "Epoch 55/150\n",
            "77/77 [==============================] - 0s 2ms/step - loss: 0.5058 - accuracy: 0.7513\n",
            "Epoch 56/150\n",
            "77/77 [==============================] - 0s 2ms/step - loss: 0.5204 - accuracy: 0.7487\n",
            "Epoch 57/150\n",
            "77/77 [==============================] - 0s 2ms/step - loss: 0.5027 - accuracy: 0.7591\n",
            "Epoch 58/150\n",
            "77/77 [==============================] - 0s 2ms/step - loss: 0.5244 - accuracy: 0.7409\n",
            "Epoch 59/150\n",
            "77/77 [==============================] - 0s 2ms/step - loss: 0.4953 - accuracy: 0.7682\n",
            "Epoch 60/150\n",
            "77/77 [==============================] - 0s 2ms/step - loss: 0.5126 - accuracy: 0.7656\n",
            "Epoch 61/150\n",
            "77/77 [==============================] - 0s 2ms/step - loss: 0.5009 - accuracy: 0.7591\n",
            "Epoch 62/150\n",
            "77/77 [==============================] - 0s 2ms/step - loss: 0.4955 - accuracy: 0.7656\n",
            "Epoch 63/150\n",
            "77/77 [==============================] - 0s 2ms/step - loss: 0.5108 - accuracy: 0.7487\n",
            "Epoch 64/150\n",
            "77/77 [==============================] - 0s 2ms/step - loss: 0.4996 - accuracy: 0.7734\n",
            "Epoch 65/150\n",
            "77/77 [==============================] - 0s 2ms/step - loss: 0.4887 - accuracy: 0.7747\n",
            "Epoch 66/150\n",
            "77/77 [==============================] - 0s 2ms/step - loss: 0.4976 - accuracy: 0.7552\n",
            "Epoch 67/150\n",
            "77/77 [==============================] - 0s 2ms/step - loss: 0.5050 - accuracy: 0.7578\n",
            "Epoch 68/150\n",
            "77/77 [==============================] - 0s 2ms/step - loss: 0.5030 - accuracy: 0.7448\n",
            "Epoch 69/150\n",
            "77/77 [==============================] - 0s 2ms/step - loss: 0.5047 - accuracy: 0.7578\n",
            "Epoch 70/150\n",
            "77/77 [==============================] - 0s 4ms/step - loss: 0.4968 - accuracy: 0.7578\n",
            "Epoch 71/150\n",
            "77/77 [==============================] - 0s 4ms/step - loss: 0.5013 - accuracy: 0.7695\n",
            "Epoch 72/150\n",
            "77/77 [==============================] - 0s 4ms/step - loss: 0.4857 - accuracy: 0.7721\n",
            "Epoch 73/150\n",
            "77/77 [==============================] - 0s 4ms/step - loss: 0.5007 - accuracy: 0.7591\n",
            "Epoch 74/150\n",
            "77/77 [==============================] - 0s 4ms/step - loss: 0.5084 - accuracy: 0.7565\n",
            "Epoch 75/150\n",
            "77/77 [==============================] - 0s 3ms/step - loss: 0.4908 - accuracy: 0.7617\n",
            "Epoch 76/150\n",
            "77/77 [==============================] - 0s 4ms/step - loss: 0.4967 - accuracy: 0.7708\n",
            "Epoch 77/150\n",
            "77/77 [==============================] - 0s 4ms/step - loss: 0.4851 - accuracy: 0.7747\n",
            "Epoch 78/150\n",
            "77/77 [==============================] - 0s 4ms/step - loss: 0.4897 - accuracy: 0.7669\n",
            "Epoch 79/150\n",
            "77/77 [==============================] - 0s 5ms/step - loss: 0.4969 - accuracy: 0.7643\n",
            "Epoch 80/150\n",
            "77/77 [==============================] - 0s 4ms/step - loss: 0.4930 - accuracy: 0.7826\n",
            "Epoch 81/150\n",
            "77/77 [==============================] - 0s 5ms/step - loss: 0.4989 - accuracy: 0.7578\n",
            "Epoch 82/150\n",
            "77/77 [==============================] - 1s 8ms/step - loss: 0.4813 - accuracy: 0.7734\n",
            "Epoch 83/150\n",
            "77/77 [==============================] - 1s 8ms/step - loss: 0.4966 - accuracy: 0.7578\n",
            "Epoch 84/150\n",
            "77/77 [==============================] - 1s 8ms/step - loss: 0.4797 - accuracy: 0.7799\n",
            "Epoch 85/150\n",
            "77/77 [==============================] - 0s 6ms/step - loss: 0.4835 - accuracy: 0.7773\n",
            "Epoch 86/150\n",
            "77/77 [==============================] - 1s 7ms/step - loss: 0.4817 - accuracy: 0.7630\n",
            "Epoch 87/150\n",
            "77/77 [==============================] - 0s 4ms/step - loss: 0.4924 - accuracy: 0.7617\n",
            "Epoch 88/150\n",
            "77/77 [==============================] - 0s 3ms/step - loss: 0.4976 - accuracy: 0.7578\n",
            "Epoch 89/150\n",
            "77/77 [==============================] - 0s 4ms/step - loss: 0.4970 - accuracy: 0.7682\n",
            "Epoch 90/150\n",
            "77/77 [==============================] - 0s 5ms/step - loss: 0.4831 - accuracy: 0.7695\n",
            "Epoch 91/150\n",
            "77/77 [==============================] - 0s 5ms/step - loss: 0.4872 - accuracy: 0.7695\n",
            "Epoch 92/150\n",
            "77/77 [==============================] - 0s 5ms/step - loss: 0.4864 - accuracy: 0.7760\n",
            "Epoch 93/150\n",
            "77/77 [==============================] - 0s 5ms/step - loss: 0.4866 - accuracy: 0.7682\n",
            "Epoch 94/150\n",
            "77/77 [==============================] - 0s 6ms/step - loss: 0.4835 - accuracy: 0.7826\n",
            "Epoch 95/150\n",
            "77/77 [==============================] - 0s 5ms/step - loss: 0.4717 - accuracy: 0.7786\n",
            "Epoch 96/150\n",
            "77/77 [==============================] - 0s 4ms/step - loss: 0.4778 - accuracy: 0.7826\n",
            "Epoch 97/150\n",
            "77/77 [==============================] - 0s 4ms/step - loss: 0.4721 - accuracy: 0.7930\n",
            "Epoch 98/150\n",
            "77/77 [==============================] - 0s 4ms/step - loss: 0.4740 - accuracy: 0.7812\n",
            "Epoch 99/150\n",
            "77/77 [==============================] - 0s 4ms/step - loss: 0.4838 - accuracy: 0.7539\n",
            "Epoch 100/150\n",
            "77/77 [==============================] - 0s 6ms/step - loss: 0.4758 - accuracy: 0.7656\n",
            "Epoch 101/150\n",
            "77/77 [==============================] - 0s 5ms/step - loss: 0.4708 - accuracy: 0.7708\n",
            "Epoch 102/150\n",
            "77/77 [==============================] - 0s 5ms/step - loss: 0.4700 - accuracy: 0.7826\n",
            "Epoch 103/150\n",
            "77/77 [==============================] - 0s 4ms/step - loss: 0.4864 - accuracy: 0.7500\n",
            "Epoch 104/150\n",
            "77/77 [==============================] - 0s 5ms/step - loss: 0.4705 - accuracy: 0.7930\n",
            "Epoch 105/150\n",
            "77/77 [==============================] - 0s 4ms/step - loss: 0.4755 - accuracy: 0.7760\n",
            "Epoch 106/150\n",
            "77/77 [==============================] - 0s 5ms/step - loss: 0.4706 - accuracy: 0.7891\n",
            "Epoch 107/150\n",
            "77/77 [==============================] - 0s 5ms/step - loss: 0.4863 - accuracy: 0.7734\n",
            "Epoch 108/150\n",
            "77/77 [==============================] - 0s 6ms/step - loss: 0.4734 - accuracy: 0.7682\n",
            "Epoch 109/150\n",
            "77/77 [==============================] - 0s 6ms/step - loss: 0.4676 - accuracy: 0.7799\n",
            "Epoch 110/150\n",
            "77/77 [==============================] - 0s 4ms/step - loss: 0.4781 - accuracy: 0.7760\n",
            "Epoch 111/150\n",
            "77/77 [==============================] - 0s 5ms/step - loss: 0.4888 - accuracy: 0.7826\n",
            "Epoch 112/150\n",
            "77/77 [==============================] - 0s 4ms/step - loss: 0.4709 - accuracy: 0.7747\n",
            "Epoch 113/150\n",
            "77/77 [==============================] - 0s 4ms/step - loss: 0.4665 - accuracy: 0.7786\n",
            "Epoch 114/150\n",
            "77/77 [==============================] - 0s 2ms/step - loss: 0.4654 - accuracy: 0.7904\n",
            "Epoch 115/150\n",
            "77/77 [==============================] - 0s 2ms/step - loss: 0.4621 - accuracy: 0.7865\n",
            "Epoch 116/150\n",
            "77/77 [==============================] - 0s 2ms/step - loss: 0.4943 - accuracy: 0.7539\n",
            "Epoch 117/150\n",
            "77/77 [==============================] - 0s 2ms/step - loss: 0.4638 - accuracy: 0.7917\n",
            "Epoch 118/150\n",
            "77/77 [==============================] - 0s 3ms/step - loss: 0.4641 - accuracy: 0.7695\n",
            "Epoch 119/150\n",
            "77/77 [==============================] - 0s 2ms/step - loss: 0.4654 - accuracy: 0.7708\n",
            "Epoch 120/150\n",
            "77/77 [==============================] - 0s 2ms/step - loss: 0.4833 - accuracy: 0.7708\n",
            "Epoch 121/150\n",
            "77/77 [==============================] - 0s 2ms/step - loss: 0.4800 - accuracy: 0.7734\n",
            "Epoch 122/150\n",
            "77/77 [==============================] - 0s 2ms/step - loss: 0.4698 - accuracy: 0.7878\n",
            "Epoch 123/150\n",
            "77/77 [==============================] - 0s 2ms/step - loss: 0.4907 - accuracy: 0.7552\n",
            "Epoch 124/150\n",
            "77/77 [==============================] - 0s 2ms/step - loss: 0.4629 - accuracy: 0.7904\n",
            "Epoch 125/150\n",
            "77/77 [==============================] - 0s 2ms/step - loss: 0.4672 - accuracy: 0.7799\n",
            "Epoch 126/150\n",
            "77/77 [==============================] - 0s 2ms/step - loss: 0.4805 - accuracy: 0.7721\n",
            "Epoch 127/150\n",
            "77/77 [==============================] - 0s 2ms/step - loss: 0.4579 - accuracy: 0.7852\n",
            "Epoch 128/150\n",
            "77/77 [==============================] - 0s 2ms/step - loss: 0.4621 - accuracy: 0.7904\n",
            "Epoch 129/150\n",
            "77/77 [==============================] - 0s 2ms/step - loss: 0.4547 - accuracy: 0.7760\n",
            "Epoch 130/150\n",
            "77/77 [==============================] - 0s 2ms/step - loss: 0.4689 - accuracy: 0.7878\n",
            "Epoch 131/150\n",
            "77/77 [==============================] - 0s 2ms/step - loss: 0.4718 - accuracy: 0.7708\n",
            "Epoch 132/150\n",
            "77/77 [==============================] - 0s 2ms/step - loss: 0.4819 - accuracy: 0.7760\n",
            "Epoch 133/150\n",
            "77/77 [==============================] - 0s 2ms/step - loss: 0.4602 - accuracy: 0.7773\n",
            "Epoch 134/150\n",
            "77/77 [==============================] - 0s 2ms/step - loss: 0.4732 - accuracy: 0.7773\n",
            "Epoch 135/150\n",
            "77/77 [==============================] - 0s 2ms/step - loss: 0.4702 - accuracy: 0.7852\n",
            "Epoch 136/150\n",
            "77/77 [==============================] - 0s 2ms/step - loss: 0.4603 - accuracy: 0.7773\n",
            "Epoch 137/150\n",
            "77/77 [==============================] - 0s 2ms/step - loss: 0.4612 - accuracy: 0.7773\n",
            "Epoch 138/150\n",
            "77/77 [==============================] - 0s 2ms/step - loss: 0.4569 - accuracy: 0.7747\n",
            "Epoch 139/150\n",
            "77/77 [==============================] - 0s 2ms/step - loss: 0.4684 - accuracy: 0.7760\n",
            "Epoch 140/150\n",
            "77/77 [==============================] - 0s 2ms/step - loss: 0.4737 - accuracy: 0.7799\n",
            "Epoch 141/150\n",
            "77/77 [==============================] - 0s 2ms/step - loss: 0.4718 - accuracy: 0.7721\n",
            "Epoch 142/150\n",
            "77/77 [==============================] - 0s 2ms/step - loss: 0.4647 - accuracy: 0.7891\n",
            "Epoch 143/150\n",
            "77/77 [==============================] - 0s 2ms/step - loss: 0.4527 - accuracy: 0.7891\n",
            "Epoch 144/150\n",
            "77/77 [==============================] - 0s 4ms/step - loss: 0.4498 - accuracy: 0.7982\n",
            "Epoch 145/150\n",
            "77/77 [==============================] - 0s 4ms/step - loss: 0.4491 - accuracy: 0.7995\n",
            "Epoch 146/150\n",
            "77/77 [==============================] - 0s 4ms/step - loss: 0.4612 - accuracy: 0.7799\n",
            "Epoch 147/150\n",
            "77/77 [==============================] - 0s 4ms/step - loss: 0.4542 - accuracy: 0.7995\n",
            "Epoch 148/150\n",
            "77/77 [==============================] - 0s 4ms/step - loss: 0.4629 - accuracy: 0.7878\n",
            "Epoch 149/150\n",
            "77/77 [==============================] - 0s 3ms/step - loss: 0.4557 - accuracy: 0.7891\n",
            "Epoch 150/150\n",
            "77/77 [==============================] - 0s 3ms/step - loss: 0.4583 - accuracy: 0.7747\n"
          ]
        },
        {
          "output_type": "execute_result",
          "data": {
            "text/plain": [
              "<keras.callbacks.History at 0x7f8a3d77da90>"
            ]
          },
          "metadata": {},
          "execution_count": 72
        }
      ]
    },
    {
      "cell_type": "code",
      "source": [
        "# FOR LEAVING THOSE BARS IN EVALUATION OUTPUT\n",
        "# # fit the keras model on the dataset without progress bars\n",
        "# model.fit(X, y, epochs=150, batch_size=10, verbose=0)\n",
        "# # evaluate the keras model\n",
        "# _, accuracy = model.evaluate(X, y, verbose=0)"
      ],
      "metadata": {
        "id": "eIoGd5bN4lC5"
      },
      "execution_count": 73,
      "outputs": []
    },
    {
      "cell_type": "code",
      "source": [
        "# evaluate the keras model\n",
        "_, accuracy = model.evaluate(X, y)\n",
        "print('Accuracy: %.2f' % (accuracy*100))"
      ],
      "metadata": {
        "colab": {
          "base_uri": "https://localhost:8080/"
        },
        "id": "JWcLd5qlz4Ys",
        "outputId": "4d05a67c-3ff8-4ccc-dce7-89d91102eadf"
      },
      "execution_count": 74,
      "outputs": [
        {
          "output_type": "stream",
          "name": "stdout",
          "text": [
            "24/24 [==============================] - 0s 2ms/step - loss: 0.4420 - accuracy: 0.8008\n",
            "Accuracy: 80.08\n"
          ]
        }
      ]
    },
    {
      "cell_type": "code",
      "source": [
        "# # first neural network with keras tutorial\n",
        "# from numpy import loadtxt\n",
        "# from tensorflow.keras.models import Sequential\n",
        "# from tensorflow.keras.layers import Dense\n",
        "# # load the dataset\n",
        "# dataset = loadtxt('pima-indians-diabetes.csv', delimiter=',')\n",
        "# # split into input (X) and output (y) variables\n",
        "# X = dataset[:,0:8]\n",
        "# y = dataset[:,8]\n",
        "# # define the keras model\n",
        "# model = Sequential()\n",
        "# model.add(Dense(12, input_shape=(8,), activation='relu'))\n",
        "# model.add(Dense(8, activation='relu'))\n",
        "# model.add(Dense(1, activation='sigmoid'))\n",
        "# # compile the keras model\n",
        "# model.compile(loss='binary_crossentropy', optimizer='adam', metrics=['accuracy'])\n",
        "# # fit the keras model on the dataset\n",
        "# model.fit(X, y, epochs=150, batch_size=10)\n",
        "# # evaluate the keras model\n",
        "# _, accuracy = model.evaluate(X, y)\n",
        "# print('Accuracy: %.2f' % (accuracy*100))"
      ],
      "metadata": {
        "id": "ppa05ymZ061o"
      },
      "execution_count": 75,
      "outputs": []
    },
    {
      "cell_type": "code",
      "source": [
        "# make probability predictions with the model\n",
        "predictions = model.predict(X)\n",
        "# round predictions \n",
        "rounded = [round(x[0]) for x in predictions]"
      ],
      "metadata": {
        "colab": {
          "base_uri": "https://localhost:8080/"
        },
        "id": "IpDWuQPL-Mgz",
        "outputId": "ed209e83-e1b7-4d9c-ca63-134d1158aae5"
      },
      "execution_count": 77,
      "outputs": [
        {
          "output_type": "stream",
          "name": "stdout",
          "text": [
            "24/24 [==============================] - 0s 3ms/step\n"
          ]
        }
      ]
    },
    {
      "cell_type": "code",
      "source": [
        "# make class predictions with the model\n",
        "predictions = (model.predict(X) > 0.5).astype(int)"
      ],
      "metadata": {
        "colab": {
          "base_uri": "https://localhost:8080/"
        },
        "id": "z3FfzD5mEOa4",
        "outputId": "0781534b-973d-479d-f03d-7f7b37f8f5e6"
      },
      "execution_count": 85,
      "outputs": [
        {
          "output_type": "stream",
          "name": "stdout",
          "text": [
            "24/24 [==============================] - 0s 1ms/step\n"
          ]
        }
      ]
    },
    {
      "cell_type": "code",
      "source": [
        "# first neural network with keras make predictions\n",
        "from numpy import loadtxt\n",
        "from tensorflow.keras.models import Sequential\n",
        "from tensorflow.keras.layers import Dense\n",
        "# load the dataset\n",
        "dataset = loadtxt('/content/pima_r.csv', delimiter=',')\n",
        "# split into input (X) and output (y) variables\n",
        "X = dataset[:,0:8]\n",
        "y = dataset[:,8]\n",
        "# define the keras model\n",
        "model = Sequential()\n",
        "model.add(Dense(12, input_shape=(8,), activation='relu'))\n",
        "model.add(Dense(8, activation='relu'))\n",
        "model.add(Dense(1, activation='sigmoid'))\n",
        "# compile the keras model\n",
        "model.compile(loss='binary_crossentropy', optimizer='adam', metrics=['accuracy'])\n",
        "# fit the keras model on the dataset\n",
        "model.fit(X, y, epochs=150, batch_size=10, verbose=0)\n",
        "# make class predictions with the model\n",
        "predictions = (model.predict(X) > 0.5).astype(int)\n",
        "# summarize the first 5 cases\n",
        "for i in range(5):\n",
        "\tprint('%s => %d (expected %d)' % (X[i].tolist(), predictions[i], y[i]))"
      ],
      "metadata": {
        "colab": {
          "base_uri": "https://localhost:8080/"
        },
        "id": "R9Xa-j6hFg9v",
        "outputId": "3902d7d0-400a-497b-d8b1-ee11feb02130"
      },
      "execution_count": 86,
      "outputs": [
        {
          "output_type": "stream",
          "name": "stdout",
          "text": [
            "24/24 [==============================] - 0s 2ms/step\n",
            "[6.0, 148.0, 72.0, 35.0, 0.0, 33.6, 0.627, 50.0] => 1 (expected 1)\n",
            "[1.0, 85.0, 66.0, 29.0, 0.0, 26.6, 0.351, 31.0] => 0 (expected 0)\n",
            "[8.0, 183.0, 64.0, 0.0, 0.0, 23.3, 0.672, 32.0] => 1 (expected 1)\n",
            "[1.0, 89.0, 66.0, 23.0, 94.0, 28.1, 0.167, 21.0] => 0 (expected 0)\n",
            "[0.0, 137.0, 40.0, 35.0, 168.0, 43.1, 2.288, 33.0] => 1 (expected 1)\n"
          ]
        }
      ]
    },
    {
      "cell_type": "code",
      "source": [],
      "metadata": {
        "id": "BKl9HlDgGBPx"
      },
      "execution_count": 86,
      "outputs": []
    }
  ]
}